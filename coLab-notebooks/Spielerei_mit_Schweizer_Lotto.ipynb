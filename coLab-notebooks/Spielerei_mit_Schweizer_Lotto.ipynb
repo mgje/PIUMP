{
  "nbformat": 4,
  "nbformat_minor": 0,
  "metadata": {
    "colab": {
      "name": "Spielerei mit Schweizer Lotto.ipynb",
      "provenance": [],
      "collapsed_sections": [],
      "toc_visible": true,
      "authorship_tag": "ABX9TyP+kJpzjeXNAiQlEgKu/lFq",
      "include_colab_link": true
    },
    "kernelspec": {
      "name": "python3",
      "display_name": "Python 3"
    }
  },
  "cells": [
    {
      "cell_type": "markdown",
      "metadata": {
        "id": "view-in-github",
        "colab_type": "text"
      },
      "source": [
        "<a href=\"https://colab.research.google.com/github/mgje/PIUMP/blob/master/coLab-notebooks/Spielerei_mit_Schweizer_Lotto.ipynb\" target=\"_parent\"><img src=\"https://colab.research.google.com/assets/colab-badge.svg\" alt=\"Open In Colab\"/></a>"
      ]
    },
    {
      "cell_type": "markdown",
      "metadata": {
        "id": "1VNfuQlA6c9P"
      },
      "source": [
        "# Lottozahlen visualisieren\n",
        "\n",
        "- 6 aus 42\n",
        "- 6 Zahlen auf dem Lottoschein visualisieren\n",
        "- letzte gezogene Schweizer Zahlen\n",
        "- Wieviel 3er, 4er, 5er ?"
      ]
    },
    {
      "cell_type": "code",
      "metadata": {
        "id": "qdTFQ9QXsrDT"
      },
      "source": [
        "# import Bibliotheken\n",
        "import numpy as np\n",
        "from matplotlib.patches import Circle, Wedge, Polygon, Arrow, ArrowStyle, RegularPolygon,Rectangle\n",
        "import matplotlib.lines as lines\n",
        "from matplotlib.collections import PatchCollection\n",
        "from matplotlib import animation,rc\n",
        "from IPython.display import HTML\n",
        "from IPython.display import clear_output\n",
        "import matplotlib.image as mpimg\n",
        "import matplotlib.pyplot as plt\n",
        "from matplotlib.animation import FuncAnimation, PillowWriter\n",
        "import time\n",
        "from base64 import b64encode\n",
        "plt.style.use('seaborn-white')\n",
        "\n",
        "#%matplotlib --list\n",
        "#plt.style.available\n"
      ],
      "execution_count": 1,
      "outputs": []
    },
    {
      "cell_type": "markdown",
      "metadata": {
        "id": "dPLMtKRCxgU-"
      },
      "source": [
        "# 6 aus 42 ziehen"
      ]
    },
    {
      "cell_type": "code",
      "metadata": {
        "id": "d0rpA-rB2-rx"
      },
      "source": [
        "# Schweizer Lotto 6 aus 42\n",
        "\n",
        "def lotto():\n",
        "  arr = np.arange(1,43) # upper boundary <43\n",
        "  np.random.shuffle(arr)\n",
        "  return np.sort(arr[0:6])\n"
      ],
      "execution_count": 2,
      "outputs": []
    },
    {
      "cell_type": "markdown",
      "metadata": {
        "id": "tJMW4YVMxmaj"
      },
      "source": [
        "# zufälligen Lottoschein visualisieren"
      ]
    },
    {
      "cell_type": "code",
      "metadata": {
        "colab": {
          "base_uri": "https://localhost:8080/",
          "height": 320
        },
        "id": "kIeVEvtv4_Bt",
        "outputId": "695dbb8b-6ed0-4d81-ac32-91739e2a193b"
      },
      "source": [
        "fig, ax = plt.subplots(figsize=(5,5))\n",
        "\n",
        "ax.set_xlim(( 0, 6))\n",
        "ax.set_ylim(( 0, 7))\n",
        "\n",
        "ax.set_axis_off()\n",
        "\n",
        "lot = lotto()\n",
        "\n",
        "\n",
        "squares = []\n",
        "i = 1\n",
        "for y in range(7):\n",
        "  for x in range(6):\n",
        "    squares.append([Rectangle((x,y),width=0.95,height=0.95),i])\n",
        "    i = i + 1\n",
        "\n",
        "for s in squares:\n",
        "  s[0].set_alpha(.2)\n",
        "  s[0].set_color(\"orange\")\n",
        "\n",
        "  rx, ry = s[0].get_xy()\n",
        "  cx = rx + s[0].get_width()/2.0\n",
        "  cy = ry + s[0].get_height()/2.0\n",
        "  ax.add_patch(s[0])\n",
        "\n",
        "  ax.annotate(s[1], (cx, cy), color='w', weight='bold', \n",
        "                fontsize=18, c='black', ha='center', va='center', alpha= 0.7)\n",
        "  \n",
        "  if s[1] in lot:\n",
        "    ax.add_patch(Circle((cx,cy),0.45,fc='green'))\n",
        "\n",
        "print (lot)\n",
        "\n",
        "\n"
      ],
      "execution_count": 3,
      "outputs": [
        {
          "output_type": "stream",
          "text": [
            "[ 3  6 15 18 22 37]\n"
          ],
          "name": "stdout"
        },
        {
          "output_type": "display_data",
          "data": {
            "image/png": "[encoded data removed]",
            "text/plain": [
              "<Figure size 360x360 with 1 Axes>"
            ]
          },
          "metadata": {
            "tags": [],
            "needs_background": "light"
          }
        }
      ]
    },
    {
      "cell_type": "markdown",
      "metadata": {
        "id": "1EzZa43R6cy1"
      },
      "source": [
        "# Aktuelle Lottozahlen"
      ]
    },
    {
      "cell_type": "code",
      "metadata": {
        "colab": {
          "base_uri": "https://localhost:8080/"
        },
        "id": "Sgym0-GkQTPw",
        "outputId": "3a238892-3afc-49cf-d910-183494f67f30"
      },
      "source": [
        "import requests\n",
        "import bs4\n",
        "\n",
        "def get_act_swiss_lotto():\n",
        "  url = 'https://www.swisslos.ch/en/swisslotto/information/winning-numbers/winning-numbers.html'\n",
        "  req = requests.get(url)\n",
        "  web_page = bs4.BeautifulSoup(req.text, \"lxml\")\n",
        "  tags_elements = web_page.find(name=\"div\", attrs={\"class\": \"actual-numbers___body\"})\n",
        "  numbersE = tags_elements.find_all(name=\"span\", attrs={\"class\": \"transform__center\"})\n",
        "  l = []\n",
        "  for i in range(6):\n",
        "    l.append(int(numbersE[i].text.strip(\"\\n \"))) # nur Zahlen ohne Zusatzzahl und ohne Replay\n",
        "  return l\n",
        "\n",
        "\n",
        "get_act_swiss_lotto()"
      ],
      "execution_count": 4,
      "outputs": [
        {
          "output_type": "execute_result",
          "data": {
            "text/plain": [
              "[10, 20, 27, 34, 35, 38]"
            ]
          },
          "metadata": {
            "tags": []
          },
          "execution_count": 4
        }
      ]
    },
    {
      "cell_type": "code",
      "metadata": {
        "colab": {
          "base_uri": "https://localhost:8080/",
          "height": 320
        },
        "id": "QZMOWbXLRiAJ",
        "outputId": "8ebacd38-f675-49d8-b1f7-133a56ea101d"
      },
      "source": [
        "fig, ax = plt.subplots(figsize=(5,5))\n",
        "\n",
        "ax.set_xlim(( 0, 6))\n",
        "ax.set_ylim(( 0, 7))\n",
        "\n",
        "ax.set_axis_off()\n",
        "\n",
        "lot = get_act_swiss_lotto() # get actuall numbers\n",
        "\n",
        "\n",
        "squares = []\n",
        "i = 1\n",
        "for y in range(7):\n",
        "  for x in range(6):\n",
        "    squares.append([Rectangle((x,y),width=0.95,height=0.95),i])\n",
        "    i = i + 1\n",
        "\n",
        "for s in squares:\n",
        "  s[0].set_alpha(.3)\n",
        "  s[0].set_color(\"red\")\n",
        "\n",
        "  rx, ry = s[0].get_xy()\n",
        "  cx = rx + s[0].get_width()/2.0\n",
        "  cy = ry + s[0].get_height()/2.0\n",
        "  ax.add_patch(s[0])\n",
        "\n",
        "  ax.annotate(s[1], (cx, cy), color='w', weight='bold', \n",
        "                fontsize=18, c='black', ha='center', va='center', alpha= 0.7)\n",
        "  \n",
        "  if s[1] in lot:\n",
        "    ax.add_patch(Circle((cx,cy),0.45,fc='green'))\n",
        "\n",
        "print (lot)"
      ],
      "execution_count": 5,
      "outputs": [
        {
          "output_type": "stream",
          "text": [
            "[10, 20, 27, 34, 35, 38]\n"
          ],
          "name": "stdout"
        },
        {
          "output_type": "display_data",
          "data": {
            "image/png": "[encoded data removed]",
            "text/plain": [
              "<Figure size 360x360 with 1 Axes>"
            ]
          },
          "metadata": {
            "tags": [],
            "needs_background": "light"
          }
        }
      ]
    },
    {
      "cell_type": "markdown",
      "metadata": {
        "id": "71yAA3xT6coZ"
      },
      "source": [
        "#Wieviele 3er, 4er, 5er und 6er, bei 100'000 Versuchen?\n"
      ]
    },
    {
      "cell_type": "code",
      "metadata": {
        "colab": {
          "base_uri": "https://localhost:8080/"
        },
        "id": "yk25Rw3dSYmd",
        "outputId": "47d8e9b5-8b69-47c5-8fb4-9a6c0734b602"
      },
      "source": [
        "akt_lotto = get_act_swiss_lotto()\n",
        "#print(akt_lotto)\n",
        "\n",
        "def vergleich (l1,l2):\n",
        "  z = 0\n",
        "  for e in l1:\n",
        "    if e in l2:\n",
        "      z = z + 1\n",
        "  return z\n",
        "\n",
        "verteilung = np.zeros(7)\n",
        "for i in range(100000):\n",
        "  nl = lotto();\n",
        "  z = vergleich(nl,akt_lotto)\n",
        "  verteilung[z] += 1\n",
        "\n",
        "print(f'''\n",
        "Die aktuellen Lottozahlen sind: {akt_lotto}\n",
        "Bei den 100'000 Versuchen gab es:\n",
        "  {verteilung[3]:.0f}  \\t3er\n",
        "  {verteilung[4]:.0f}  \\t\\t4er\n",
        "  {verteilung[5]:.0f}  \\t\\t5er\n",
        "  {verteilung[6]:.0f}  \\t\\t6er\n",
        "''')\n",
        "  \n"
      ],
      "execution_count": 6,
      "outputs": [
        {
          "output_type": "stream",
          "text": [
            "\n",
            "Die aktuellen Lottozahlen sind: [10, 20, 27, 34, 35, 38]\n",
            "Bei den 100'000 Versuchen gab es:\n",
            "  2706  \t3er\n",
            "  200  \t\t4er\n",
            "  5  \t\t5er\n",
            "  0  \t\t6er\n",
            "\n"
          ],
          "name": "stdout"
        }
      ]
    }
  ]
}