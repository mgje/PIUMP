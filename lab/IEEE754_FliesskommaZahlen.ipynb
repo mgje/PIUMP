{
  "nbformat": 4,
  "nbformat_minor": 0,
  "metadata": {
    "colab": {
      "name": "IEEE754_FliesskommaZahlen.ipynb",
      "provenance": [],
      "collapsed_sections": [
        "5snbAwiwnuvo",
        "HNnPZ1Hs-eBW",
        "P-hWgEmQ6y0d",
        "6A7kf7H9JY4K"
      ],
      "authorship_tag": "ABX9TyPpDxhfarU+LmnMfwABSv7Z",
      "include_colab_link": true
    },
    "kernelspec": {
      "name": "python3",
      "display_name": "Python 3"
    }
  },
  "cells": [
    {
      "cell_type": "markdown",
      "metadata": {
        "id": "view-in-github",
        "colab_type": "text"
      },
      "source": [
        "<a href=\"https://colab.research.google.com/github/mgje/PIUMP/blob/master/lab/IEEE754_FliesskommaZahlen.ipynb\" target=\"_parent\"><img src=\"https://colab.research.google.com/assets/colab-badge.svg\" alt=\"Open In Colab\"/></a>"
      ]
    },
    {
      "cell_type": "markdown",
      "metadata": {
        "id": "5snbAwiwnuvo"
      },
      "source": [
        "## Fliesskommazahlen mit Python erforschen"
      ]
    },
    {
      "cell_type": "code",
      "metadata": {
        "id": "Vkto77N0poP9"
      },
      "source": [
        "import struct"
      ],
      "execution_count": 28,
      "outputs": []
    },
    {
      "cell_type": "markdown",
      "metadata": {
        "id": "yn2Dw1YJ2jyv"
      },
      "source": [
        "![image.png](data:image/png;base64,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)"
      ]
    },
    {
      "cell_type": "code",
      "metadata": {
        "colab": {
          "base_uri": "https://localhost:8080/"
        },
        "id": "5F5PqB7On2qi",
        "outputId": "e8a5a28f-3f9a-486b-ec18-f3c638c3ea4b"
      },
      "source": [
        "def float_to_bin(num):\n",
        "    bits, = struct.unpack('!I', struct.pack('!f', num))\n",
        "    return \"{:032b}\".format(bits)\n",
        "\n",
        "out=float_to_bin(0.15625)\n",
        "print(\"IEEE754: \\t%s\"%out)\n",
        "e = out[1:9]\n",
        "m = out[9:32]\n",
        "print(\"E: \\t%s\"%e)\n",
        "print(\"M: \\t%s\"%m)"
      ],
      "execution_count": 29,
      "outputs": [
        {
          "output_type": "stream",
          "text": [
            "IEEE754: \t00111110001000000000000000000000\n",
            "E: \t01111100\n",
            "M: \t01000000000000000000000\n"
          ],
          "name": "stdout"
        }
      ]
    },
    {
      "cell_type": "code",
      "metadata": {
        "colab": {
          "base_uri": "https://localhost:8080/"
        },
        "id": "CgJ2bGRypEtg",
        "outputId": "3d3a3989-7ff2-4e76-881e-a65e0991b974"
      },
      "source": [
        "def ieee745(N): # ieee-745 bits (max 32 bit)\n",
        "    a = int(N[0])        # sign,     1 bit\n",
        "    b = int(N[1:9],2)    # exponent, 8 bits\n",
        "    c = int(\"1\"+N[9:], 2)# fraction, len(N)-9 bits\n",
        "\n",
        "    return (-1)**a * c /( 1<<( len(N)-9 - (b-127) ))\n",
        "\n",
        "V = \"0\"\n",
        "E = \"01111100\"\n",
        "M = \"01000000000000000000000\"\n",
        "\n",
        "Z = V+E+M  \n",
        "print( ieee745(Z)  )  "
      ],
      "execution_count": 30,
      "outputs": [
        {
          "output_type": "stream",
          "text": [
            "0.15625\n"
          ],
          "name": "stdout"
        }
      ]
    },
    {
      "cell_type": "markdown",
      "metadata": {
        "id": "HNnPZ1Hs-eBW"
      },
      "source": [
        "### Darstellung einer Gleitkommazahl\n",
        "$ \\huge{Z = s \\cdot m \\cdot 2^{e}}$\n",
        "\n",
        "Vorzeichen s (1 Bit)\n",
        "Mantisse m (M Bits)\n",
        "Basis 2 Gleitkommazahlen nach IEEE 754 ist \n",
        "Exponent $e = E-127$ (E Bits)"
      ]
    },
    {
      "cell_type": "markdown",
      "metadata": {
        "id": "P-hWgEmQ6y0d"
      },
      "source": [
        "### Zahlen zwischen 1 und 2 (ohne 2) haben als Exponent 01111111, also 127\n",
        "\n",
        "- Welches ist die kleinste Flieskommazahl zwischen 1 und 2?\n",
        "- Welches ist die grösste Fliesskommazahl zwischen 1 und 2\n",
        "- Wiviele Fliesskommazahlen gibt es zwischen 1 und 2 ? \n",
        "- Wie gross ist die Lücke ?"
      ]
    },
    {
      "cell_type": "code",
      "metadata": {
        "colab": {
          "base_uri": "https://localhost:8080/"
        },
        "id": "j4m-Yzv12os0",
        "outputId": "8f72cc53-d6a8-48d6-d9d7-440ee788dc62"
      },
      "source": [
        "V = \"0\"\n",
        "E = \"01111111\"\n",
        "M = \"00000000000000000000000\"\n",
        "#M = \"11111111111111111111111\"\n",
        "\n",
        "Z = V+E+M  \n",
        "print( ieee745(Z)  )  "
      ],
      "execution_count": 31,
      "outputs": [
        {
          "output_type": "stream",
          "text": [
            "1.0\n"
          ],
          "name": "stdout"
        }
      ]
    },
    {
      "cell_type": "markdown",
      "metadata": {
        "id": "6A7kf7H9JY4K"
      },
      "source": [
        "# Spektrum mit matplotlib visualisieren"
      ]
    },
    {
      "cell_type": "code",
      "metadata": {
        "id": "TScT45kCI3OW"
      },
      "source": [
        "\"\"\" matplotlib \"\"\" \n",
        "# Libraries\n",
        "import numpy as np\n",
        "import time\n",
        "import matplotlib\n",
        "from matplotlib import colors\n",
        "import matplotlib.pyplot as plt"
      ],
      "execution_count": 32,
      "outputs": []
    },
    {
      "cell_type": "code",
      "metadata": {
        "id": "BZtYWVpy_pYg"
      },
      "source": [
        "def showspec(X): #Array as Input\n",
        "  N = len(X)\n",
        "  x = np.array(X)\n",
        "  y = np.array([1.0]*N)\n",
        "\n",
        "  plt.stem(x,y)\n",
        "  return plt.show()"
      ],
      "execution_count": 33,
      "outputs": []
    },
    {
      "cell_type": "code",
      "metadata": {
        "id": "QOX8FLZV_gR1",
        "colab": {
          "base_uri": "https://localhost:8080/",
          "height": 0
        },
        "outputId": "9f7881ca-18e7-4baf-df85-2a300bd8837c"
      },
      "source": [
        " A = [2,2.2,2.4,2.6,1.9,1.8,1.7]\n",
        " showspec(A)"
      ],
      "execution_count": 34,
      "outputs": [
        {
          "output_type": "stream",
          "text": [
            "/usr/local/lib/python3.6/dist-packages/ipykernel_launcher.py:6: UserWarning: In Matplotlib 3.3 individual lines on a stem plot will be added as a LineCollection instead of individual lines. This significantly improves the performance of a stem plot. To remove this warning and switch to the new behaviour, set the \"use_line_collection\" keyword argument to True.\n",
            "  \n"
          ],
          "name": "stderr"
        },
        {
          "output_type": "display_data",
          "data": {
            "image/png": "[encoded data removed]",
            "text/plain": [
              "<Figure size 432x288 with 1 Axes>"
            ]
          },
          "metadata": {
            "tags": [],
            "needs_background": "light"
          }
        }
      ]
    },
    {
      "cell_type": "markdown",
      "metadata": {
        "id": "zjRm3w-Xc5Tx"
      },
      "source": [
        "# Welche Fliesskommazahlen sind in der Nähe von 1.0 ?"
      ]
    },
    {
      "cell_type": "code",
      "metadata": {
        "id": "2B5Mcxwg_Vgo",
        "colab": {
          "base_uri": "https://localhost:8080/",
          "height": 35
        },
        "outputId": "a87411ad-7d3d-4e09-cebd-06fa84bf1c53"
      },
      "source": [
        "float_to_bin(1.0)"
      ],
      "execution_count": 35,
      "outputs": [
        {
          "output_type": "execute_result",
          "data": {
            "application/vnd.google.colaboratory.intrinsic+json": {
              "type": "string"
            },
            "text/plain": [
              "'00111111100000000000000000000000'"
            ]
          },
          "metadata": {
            "tags": []
          },
          "execution_count": 35
        }
      ]
    },
    {
      "cell_type": "code",
      "metadata": {
        "id": "QjWzUm3N_TkT"
      },
      "source": [
        "Z = []\n",
        "\n",
        "Z.append(ieee745('00111111100000000000000000000000'))\n",
        "Z.append(ieee745('00111111100000000000000000000001'))\n",
        "Z.append(ieee745('00111111100000000000000000000010'))\n",
        "Z.append(ieee745('00111111100000000000000000000011'))\n",
        "Z.append(ieee745('00111111100000000000000000000100'))\n",
        "Z.append(ieee745('00111111100000000000000000000101'))\n",
        "Z.append(ieee745('00111111100000000000000000000110'))\n",
        "Z.append(ieee745('00111111100000000000000000000111'))\n"
      ],
      "execution_count": 36,
      "outputs": []
    },
    {
      "cell_type": "code",
      "metadata": {
        "id": "N6CeWYLL-UPH",
        "colab": {
          "base_uri": "https://localhost:8080/"
        },
        "outputId": "23851b0b-3b48-492b-8da7-de0c1582fb65"
      },
      "source": [
        "Z"
      ],
      "execution_count": 37,
      "outputs": [
        {
          "output_type": "execute_result",
          "data": {
            "text/plain": [
              "[1.0,\n",
              " 1.0000001192092896,\n",
              " 1.000000238418579,\n",
              " 1.0000003576278687,\n",
              " 1.0000004768371582,\n",
              " 1.0000005960464478,\n",
              " 1.0000007152557373,\n",
              " 1.0000008344650269]"
            ]
          },
          "metadata": {
            "tags": []
          },
          "execution_count": 37
        }
      ]
    },
    {
      "cell_type": "code",
      "metadata": {
        "id": "MuKUW1FY-C_5",
        "colab": {
          "base_uri": "https://localhost:8080/"
        },
        "outputId": "210f8ac1-2480-4c80-e0eb-2f09a8b1f65d"
      },
      "source": [
        "Z[1]-Z[0]"
      ],
      "execution_count": 38,
      "outputs": [
        {
          "output_type": "execute_result",
          "data": {
            "text/plain": [
              "1.1920928955078125e-07"
            ]
          },
          "metadata": {
            "tags": []
          },
          "execution_count": 38
        }
      ]
    },
    {
      "cell_type": "code",
      "metadata": {
        "id": "VJqFbA497oBu",
        "colab": {
          "base_uri": "https://localhost:8080/"
        },
        "outputId": "ee612344-ff97-481c-d624-d691fd9b3bbf"
      },
      "source": [
        "Z[2]-Z[1]"
      ],
      "execution_count": null,
      "outputs": [
        {
          "output_type": "execute_result",
          "data": {
            "text/plain": [
              "1.1920928955078125e-07"
            ]
          },
          "metadata": {
            "tags": []
          },
          "execution_count": 26
        }
      ]
    },
    {
      "cell_type": "code",
      "metadata": {
        "id": "qXxABEubsA7Y",
        "colab": {
          "base_uri": "https://localhost:8080/",
          "height": 332
        },
        "outputId": "8add1ad7-e474-42bd-ad46-c282ab053332"
      },
      "source": [
        "showspec(Z)"
      ],
      "execution_count": 39,
      "outputs": [
        {
          "output_type": "stream",
          "text": [
            "/usr/local/lib/python3.6/dist-packages/ipykernel_launcher.py:6: UserWarning: In Matplotlib 3.3 individual lines on a stem plot will be added as a LineCollection instead of individual lines. This significantly improves the performance of a stem plot. To remove this warning and switch to the new behaviour, set the \"use_line_collection\" keyword argument to True.\n",
            "  \n"
          ],
          "name": "stderr"
        },
        {
          "output_type": "display_data",
          "data": {
            "image/png": "[encoded data removed]",
            "text/plain": [
              "<Figure size 432x288 with 1 Axes>"
            ]
          },
          "metadata": {
            "tags": [],
            "needs_background": "light"
          }
        }
      ]
    },
    {
      "cell_type": "code",
      "metadata": {
        "id": "et51ooTer-Kh"
      },
      "source": [
        "W = []\n",
        "\n",
        "W.append(ieee745('00111111011111111111111111111111'))\n",
        "W.append(ieee745('00111111011111111111111111111110'))\n",
        "W.append(ieee745('00111111011111111111111111111101'))\n",
        "W.append(ieee745('00111111011111111111111111111100'))\n",
        "W.append(ieee745('00111111011111111111111111111011'))\n",
        "W.append(ieee745('00111111011111111111111111111010'))\n",
        "W.append(ieee745('00111111011111111111111111111001'))\n",
        "W.append(ieee745('00111111011111111111111111111000'))\n",
        "\n"
      ],
      "execution_count": 45,
      "outputs": []
    },
    {
      "cell_type": "code",
      "metadata": {
        "id": "Cg2DyttQpLFO",
        "colab": {
          "base_uri": "https://localhost:8080/"
        },
        "outputId": "5298ebcb-6c39-4025-b646-55df9c350029"
      },
      "source": [
        "W"
      ],
      "execution_count": 44,
      "outputs": [
        {
          "output_type": "execute_result",
          "data": {
            "text/plain": [
              "[0.9999999403953552,\n",
              " 1.0000001192092896,\n",
              " 1.000000238418579,\n",
              " 1.0000003576278687,\n",
              " 1.0000004768371582,\n",
              " 1.0000005960464478,\n",
              " 1.0000007152557373,\n",
              " 1.0000008344650269]"
            ]
          },
          "metadata": {
            "tags": []
          },
          "execution_count": 44
        }
      ]
    },
    {
      "cell_type": "code",
      "metadata": {
        "colab": {
          "base_uri": "https://localhost:8080/"
        },
        "id": "1aRlH7OzkGzh",
        "outputId": "c8541171-eb85-4f21-9f02-c9fc2217a7b8"
      },
      "source": [
        "W[0]-W[1]"
      ],
      "execution_count": 46,
      "outputs": [
        {
          "output_type": "execute_result",
          "data": {
            "text/plain": [
              "5.960464477539063e-08"
            ]
          },
          "metadata": {
            "tags": []
          },
          "execution_count": 46
        }
      ]
    },
    {
      "cell_type": "code",
      "metadata": {
        "colab": {
          "base_uri": "https://localhost:8080/"
        },
        "id": "7ZWy61aWkOY4",
        "outputId": "459300c7-4609-4137-ecd0-1b2a690e09bd"
      },
      "source": [
        "W[1]-W[2]"
      ],
      "execution_count": 47,
      "outputs": [
        {
          "output_type": "execute_result",
          "data": {
            "text/plain": [
              "5.960464477539063e-08"
            ]
          },
          "metadata": {
            "tags": []
          },
          "execution_count": 47
        }
      ]
    },
    {
      "cell_type": "code",
      "metadata": {
        "colab": {
          "base_uri": "https://localhost:8080/"
        },
        "id": "KQbCmF1akWav",
        "outputId": "dd8171dd-3c19-4979-cb98-24fafa1717e8"
      },
      "source": [
        "W[2]-W[3]"
      ],
      "execution_count": 48,
      "outputs": [
        {
          "output_type": "execute_result",
          "data": {
            "text/plain": [
              "5.960464477539063e-08"
            ]
          },
          "metadata": {
            "tags": []
          },
          "execution_count": 48
        }
      ]
    },
    {
      "cell_type": "code",
      "metadata": {
        "colab": {
          "base_uri": "https://localhost:8080/",
          "height": 332
        },
        "id": "ra_ohEhHkZz1",
        "outputId": "2421d7c4-40be-414e-9853-20f7e740df14"
      },
      "source": [
        "S = Z+W\n",
        "showspec(S)"
      ],
      "execution_count": 49,
      "outputs": [
        {
          "output_type": "stream",
          "text": [
            "/usr/local/lib/python3.6/dist-packages/ipykernel_launcher.py:6: UserWarning: In Matplotlib 3.3 individual lines on a stem plot will be added as a LineCollection instead of individual lines. This significantly improves the performance of a stem plot. To remove this warning and switch to the new behaviour, set the \"use_line_collection\" keyword argument to True.\n",
            "  \n"
          ],
          "name": "stderr"
        },
        {
          "output_type": "display_data",
          "data": {
            "image/png": "[encoded data removed]",
            "text/plain": [
              "<Figure size 432x288 with 1 Axes>"
            ]
          },
          "metadata": {
            "tags": [],
            "needs_background": "light"
          }
        }
      ]
    },
    {
      "cell_type": "code",
      "metadata": {
        "colab": {
          "base_uri": "https://localhost:8080/"
        },
        "id": "50cyhpUxkw64",
        "outputId": "d0c40290-9019-47d9-d92c-bca466fe7f12"
      },
      "source": [
        "S"
      ],
      "execution_count": 50,
      "outputs": [
        {
          "output_type": "execute_result",
          "data": {
            "text/plain": [
              "[1.0,\n",
              " 1.0000001192092896,\n",
              " 1.000000238418579,\n",
              " 1.0000003576278687,\n",
              " 1.0000004768371582,\n",
              " 1.0000005960464478,\n",
              " 1.0000007152557373,\n",
              " 1.0000008344650269,\n",
              " 0.9999999403953552,\n",
              " 0.9999998807907104,\n",
              " 0.9999998211860657,\n",
              " 0.9999997615814209,\n",
              " 0.9999997019767761,\n",
              " 0.9999996423721313,\n",
              " 0.9999995827674866,\n",
              " 0.9999995231628418]"
            ]
          },
          "metadata": {
            "tags": []
          },
          "execution_count": 50
        }
      ]
    }
  ]
}